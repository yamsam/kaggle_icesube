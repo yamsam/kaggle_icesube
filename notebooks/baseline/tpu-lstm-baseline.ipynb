{
 "cells": [
  {
   "cell_type": "markdown",
   "metadata": {
    "id": "PSOdj3vFxclT"
   },
   "source": [
    "# LSTM classification\n",
    "* support kaggle, tpu, local\n",
    "* support wandb\n",
    "* restart"
   ]
  },
  {
   "cell_type": "code",
   "execution_count": 1,
   "metadata": {},
   "outputs": [
    {
     "name": "stderr",
     "output_type": "stream",
     "text": [
      "Failed to detect the name of this notebook, you can set it manually with the WANDB_NOTEBOOK_NAME environment variable to enable code saving.\n",
      "\u001b[34m\u001b[1mwandb\u001b[0m: Currently logged in as: \u001b[33myamsam\u001b[0m. Use \u001b[1m`wandb login --relogin`\u001b[0m to force relogin\n",
      "\u001b[34m\u001b[1mwandb\u001b[0m: \u001b[33mWARNING\u001b[0m If you're specifying your api key in code, ensure this code is not shared publicly.\n",
      "\u001b[34m\u001b[1mwandb\u001b[0m: \u001b[33mWARNING\u001b[0m Consider setting the WANDB_API_KEY environment variable, or running `wandb login` from the command line.\n",
      "\u001b[34m\u001b[1mwandb\u001b[0m: Appending key for api.wandb.ai to your netrc file: /home/isamu/.netrc\n"
     ]
    },
    {
     "data": {
      "text/plain": [
       "True"
      ]
     },
     "execution_count": 1,
     "metadata": {},
     "output_type": "execute_result"
    }
   ],
   "source": [
    "import wandb\n",
    "from wandb.keras import WandbCallback\n",
    "wandb_api = \"f571af2e972ca3d32084ed1f08cdb30a7c49321e\" #user_secrets.get_secret(\"wandb_api\")\n",
    "wandb.login(key=wandb_api)"
   ]
  },
  {
   "cell_type": "code",
   "execution_count": 2,
   "metadata": {
    "colab": {
     "base_uri": "https://localhost:8080/"
    },
    "executionInfo": {
     "elapsed": 4,
     "status": "ok",
     "timestamp": 1676775719504,
     "user": {
      "displayName": "136 yamashitan",
      "userId": "17856296841449186565"
     },
     "user_tz": -540
    },
    "id": "8UDMo7tbxjPJ",
    "outputId": "16469dba-79b9-4142-853b-2ff9fded48f2"
   },
   "outputs": [
    {
     "name": "stdout",
     "output_type": "stream",
     "text": [
      "COLAB False\n",
      "KAGGLE False\n"
     ]
    }
   ],
   "source": [
    "import os\n",
    "IS_COLAB = not os.path.exists('/kaggle/input') and not os.path.exists('/home/isamu') \n",
    "print('COLAB', IS_COLAB) \n",
    "IS_KAGGLE = os.path.exists('/kaggle/input')\n",
    "print('KAGGLE', IS_KAGGLE) "
   ]
  },
  {
   "cell_type": "code",
   "execution_count": 3,
   "metadata": {
    "colab": {
     "base_uri": "https://localhost:8080/"
    },
    "executionInfo": {
     "elapsed": 11467,
     "status": "ok",
     "timestamp": 1676775730969,
     "user": {
      "displayName": "136 yamashitan",
      "userId": "17856296841449186565"
     },
     "user_tz": -540
    },
    "id": "1osgLs2Exclb",
    "outputId": "10253043-b759-44bc-ee26-f58c7e1adf9a"
   },
   "outputs": [
    {
     "name": "stdout",
     "output_type": "stream",
     "text": [
      "Running on 1 replicas\n"
     ]
    }
   ],
   "source": [
    "import tensorflow as tf\n",
    "from tensorflow.keras import mixed_precision\n",
    "\n",
    "def auto_select_accelerator():\n",
    "    TPU_DETECTED = False\n",
    "    MIXED = False\n",
    "    try:\n",
    "        if MIXED:\n",
    "          tpu = tf.distribute.cluster_resolver.TPUClusterResolver()\n",
    "          tf.config.experimental_connect_to_cluster(tpu)\n",
    "          tf.tpu.experimental.initialize_tpu_system(tpu)\n",
    "          strategy = tf.distribute.experimental.TPUStrategy(tpu)\n",
    "          policy = mixed_precision.Policy('mixed_bfloat16')\n",
    "          mixed_precision.set_global_policy(policy)\n",
    "          tf.config.optimizer.set_jit(True)\n",
    "        else:\n",
    "          tpu = tf.distribute.cluster_resolver.TPUClusterResolver()\n",
    "          tf.config.experimental_connect_to_cluster(tpu)\n",
    "          tf.tpu.experimental.initialize_tpu_system(tpu)\n",
    "          strategy = tf.distribute.experimental.TPUStrategy(tpu)\n",
    "        print(\"Running on TPU:\", tpu.master())\n",
    "        TPU_DETECTED = True\n",
    "    except ValueError:\n",
    "        strategy = tf.distribute.get_strategy()\n",
    "    print(f\"Running on {strategy.num_replicas_in_sync} replicas\")\n",
    "    return strategy, TPU_DETECTED\n",
    "\n",
    "strategy, tpu_detected = auto_select_accelerator()\n",
    "AUTO = tf.data.experimental.AUTOTUNE\n",
    "REPLICAS = strategy.num_replicas_in_sync"
   ]
  },
  {
   "cell_type": "code",
   "execution_count": 4,
   "metadata": {
    "_cell_guid": "b1076dfc-b9ad-4769-8c92-a6c4dae69d19",
    "_uuid": "8f2839f25d086af736a60e9eeb907d3b93b6e0e5",
    "executionInfo": {
     "elapsed": 4,
     "status": "ok",
     "timestamp": 1676775730969,
     "user": {
      "displayName": "136 yamashitan",
      "userId": "17856296841449186565"
     },
     "user_tz": -540
    },
    "id": "u0LtvMd1xclW"
   },
   "outputs": [],
   "source": [
    "# Data I/O and preprocessing\n",
    "import numpy as np\n",
    "import wandb\n",
    "\n",
    "# System\n",
    "import time\n",
    "import os\n",
    "import gc\n",
    "import math\n",
    "import random\n",
    "import re\n",
    "from datetime import datetime\n",
    "import tensorflow as tf\n",
    "#import tensorflow_addons as tfa\n",
    "\n",
    "from tensorflow import keras\n",
    "from tensorflow.keras import mixed_precision\n",
    "# Graphic\n",
    "import matplotlib.pyplot as plt\n",
    "\n",
    "from tqdm import tqdm\n",
    "\n",
    "#from kaggle_datasets import KaggleDatasets\n",
    "%matplotlib inline"
   ]
  },
  {
   "cell_type": "code",
   "execution_count": 5,
   "metadata": {
    "colab": {
     "base_uri": "https://localhost:8080/"
    },
    "executionInfo": {
     "elapsed": 1797,
     "status": "ok",
     "timestamp": 1676775732763,
     "user": {
      "displayName": "136 yamashitan",
      "userId": "17856296841449186565"
     },
     "user_tz": -540
    },
    "id": "tecf1_koxqmV",
    "outputId": "84b2276b-7cc5-49fa-f302-737d36a60fc2"
   },
   "outputs": [],
   "source": [
    "if IS_COLAB:\n",
    "  from google.colab import drive\n",
    "  drive.mount('/content/drive')"
   ]
  },
  {
   "cell_type": "code",
   "execution_count": 6,
   "metadata": {
    "executionInfo": {
     "elapsed": 4,
     "status": "ok",
     "timestamp": 1676775732763,
     "user": {
      "displayName": "136 yamashitan",
      "userId": "17856296841449186565"
     },
     "user_tz": -540
    },
    "id": "60JDdrYexclX"
   },
   "outputs": [
    {
     "name": "stdout",
     "output_type": "stream",
     "text": [
      "1 Physical GPUs, 1 Logical GPUs\n"
     ]
    },
    {
     "name": "stderr",
     "output_type": "stream",
     "text": [
      "2023-02-19 17:30:00.856339: I tensorflow/stream_executor/cuda/cuda_gpu_executor.cc:975] successful NUMA node read from SysFS had negative value (-1), but there must be at least one NUMA node, so returning NUMA node zero\n",
      "2023-02-19 17:30:00.861171: I tensorflow/stream_executor/cuda/cuda_gpu_executor.cc:975] successful NUMA node read from SysFS had negative value (-1), but there must be at least one NUMA node, so returning NUMA node zero\n",
      "2023-02-19 17:30:00.861340: I tensorflow/stream_executor/cuda/cuda_gpu_executor.cc:975] successful NUMA node read from SysFS had negative value (-1), but there must be at least one NUMA node, so returning NUMA node zero\n",
      "2023-02-19 17:30:00.862175: I tensorflow/core/platform/cpu_feature_guard.cc:193] This TensorFlow binary is optimized with oneAPI Deep Neural Network Library (oneDNN) to use the following CPU instructions in performance-critical operations:  SSE4.1 SSE4.2 AVX AVX2 FMA\n",
      "To enable them in other operations, rebuild TensorFlow with the appropriate compiler flags.\n",
      "2023-02-19 17:30:00.862638: I tensorflow/stream_executor/cuda/cuda_gpu_executor.cc:975] successful NUMA node read from SysFS had negative value (-1), but there must be at least one NUMA node, so returning NUMA node zero\n",
      "2023-02-19 17:30:00.862786: I tensorflow/stream_executor/cuda/cuda_gpu_executor.cc:975] successful NUMA node read from SysFS had negative value (-1), but there must be at least one NUMA node, so returning NUMA node zero\n",
      "2023-02-19 17:30:00.862916: I tensorflow/stream_executor/cuda/cuda_gpu_executor.cc:975] successful NUMA node read from SysFS had negative value (-1), but there must be at least one NUMA node, so returning NUMA node zero\n",
      "2023-02-19 17:30:01.265379: I tensorflow/stream_executor/cuda/cuda_gpu_executor.cc:975] successful NUMA node read from SysFS had negative value (-1), but there must be at least one NUMA node, so returning NUMA node zero\n",
      "2023-02-19 17:30:01.265559: I tensorflow/stream_executor/cuda/cuda_gpu_executor.cc:975] successful NUMA node read from SysFS had negative value (-1), but there must be at least one NUMA node, so returning NUMA node zero\n",
      "2023-02-19 17:30:01.265695: I tensorflow/stream_executor/cuda/cuda_gpu_executor.cc:975] successful NUMA node read from SysFS had negative value (-1), but there must be at least one NUMA node, so returning NUMA node zero\n",
      "2023-02-19 17:30:01.265810: I tensorflow/core/common_runtime/gpu/gpu_device.cc:1532] Created device /job:localhost/replica:0/task:0/device:GPU:0 with 21457 MB memory:  -> device: 0, name: NVIDIA GeForce RTX 3090, pci bus id: 0000:0a:00.0, compute capability: 8.6\n"
     ]
    }
   ],
   "source": [
    "gpus = tf.config.list_physical_devices('GPU')\n",
    "if gpus:\n",
    "  try:\n",
    "    # Currently, memory growth needs to be the same across GPUs\n",
    "    for gpu in gpus:\n",
    "      tf.config.experimental.set_memory_growth(gpu, True)\n",
    "    logical_gpus = tf.config.list_logical_devices('GPU')\n",
    "    print(len(gpus), \"Physical GPUs,\", len(logical_gpus), \"Logical GPUs\")\n",
    "  except RuntimeError as e:\n",
    "    # Memory growth must be set before GPUs have been initialized\n",
    "    print(e)"
   ]
  },
  {
   "cell_type": "markdown",
   "metadata": {
    "id": "faUEdj1FxclY"
   },
   "source": [
    "# Global Setting"
   ]
  },
  {
   "cell_type": "code",
   "execution_count": 7,
   "metadata": {
    "colab": {
     "base_uri": "https://localhost:8080/"
    },
    "executionInfo": {
     "elapsed": 589,
     "status": "ok",
     "timestamp": 1676775734030,
     "user": {
      "displayName": "136 yamashitan",
      "userId": "17856296841449186565"
     },
     "user_tz": -540
    },
    "id": "zG1MtgGuxcla",
    "outputId": "1a15a129-ac1b-4024-9a72-e7e2a08205c9"
   },
   "outputs": [],
   "source": [
    "class config:\n",
    "    GROUP_NAME='lstm'\n",
    "    EXP_NAME='test'\n",
    "    \n",
    "    # data\n",
    "    BIN_NUM = 16\n",
    "    # model\n",
    "    MAX_PULSE_COUNT = 128\n",
    "    SHUFFLE_SIZE = 4096 # 1024\n",
    "\n",
    "    LSTM_width = 160\n",
    "    DENSE_width = 0\n",
    "    N_COLS = 9\n",
    "\n",
    "    BATCH_SIZE = 2048 * REPLICAS\n",
    "    MIXED=False\n",
    "\n",
    "    LR_START = 1e-2\n",
    "    LR_MAX = 1e-2\n",
    "    LR_MIN = 1e-6\n",
    "    LR_RAMPUP_EPOCHS = 0\n",
    "    LR_SUSTAIN_EPOCHS = 0\n",
    "    STEPS = [160, 240, 600]\n",
    "\n",
    "    EPOCHS = 1 #20\n",
    "    LR = 1e-3 #1e-3\n",
    "\n",
    "    SEED=136\n",
    "\n",
    "    NOT_WATCH_PARAM = ['']\n",
    "    \n",
    "\n",
    "filenames = [\"rsna-cls-15\" ]\n",
    "\n",
    "run_ts = datetime.now().strftime('%Y%m%d-%H%M%S')\n",
    "\n",
    "PI =  3.14159\n",
    "\n",
    "# TPU\n",
    "if not tpu_detected:\n",
    "    REPLICAS=1\n",
    "    \n",
    "INPUT='../input/'\n",
    "if IS_COLAB:\n",
    "    exp_dir=f\"/content/drive/MyDrive/Colab Notebooks/ICECUBE/{EXP_NAME}\"\n",
    "    !mkdir  \"{exp_dir}\"\n",
    "    save_dir = f\"/content/drive/MyDrive/Colab Notebooks/ICECUBE/{EXP_NAME}/{run_ts}/\"\n",
    "    !mkdir  \"{save_dir}\"\n",
    "    INPUT='input/'\n",
    "else:\n",
    "    save_dir = \"./\""
   ]
  },
  {
   "cell_type": "code",
   "execution_count": 8,
   "metadata": {
    "executionInfo": {
     "elapsed": 6,
     "status": "ok",
     "timestamp": 1676775734030,
     "user": {
      "displayName": "136 yamashitan",
      "userId": "17856296841449186565"
     },
     "user_tz": -540
    },
    "id": "75bL2cUjU2jE"
   },
   "outputs": [],
   "source": [
    "gcs_paths = []\n",
    "\n",
    "#filenames = ['gs://kds-14a3ba81d592f3770489039cb02d9c5b350b9c23abea52f32fe4cf6a', 'gs://kds-c0c636f72ddce59d80b93e216dcdaa971a17f62bac97449eb70dba34', 'gs://kds-325e5a90a11592fbff3f8ff860278bf8a507431d03fe4c17adeab9e9', 'gs://kds-c04df881a8fa5b5e0f7ca94be00b87f4149708d377fce3c6ed9cfabc', 'gs://kds-c812038542d133d118004ad02dec890775a277538d66ae2e4dad8f39']\n",
    "# -150\n",
    "#filenames = ['gs://kds-c0c636f72ddce59d80b93e216dcdaa971a17f62bac97449eb70dba34', 'gs://kds-325e5a90a11592fbff3f8ff860278bf8a507431d03fe4c17adeab9e9', 'gs://kds-c04df881a8fa5b5e0f7ca94be00b87f4149708d377fce3c6ed9cfabc', 'gs://kds-c812038542d133d118004ad02dec890775a277538d66ae2e4dad8f39', 'gs://kds-166f90ce98ca943907860bac6967f55870ac621f2a4a450fbfda531f', 'gs://kds-98cfd524969df7cd64c47b722aad9ddeeee42f54ae184d092af166a7', 'gs://kds-1526b280fd811fae878fdd5ec2034d68a00ddb710bcecd1f1b8a69e0', 'gs://kds-5d9282028e0a9ad1e1f3248407414931bac502afac67e8dc4cfea9e6', 'gs://kds-5dff1394e81dd96307654883ebb571f7c3add9f3914570fb24f552d9', 'gs://kds-14a3ba81d592f3770489039cb02d9c5b350b9c23abea52f32fe4cf6a']\n",
    "\n",
    "# if IS_KAGGLE:\n",
    "#     from kaggle_datasets import KaggleDatasets\n",
    "#     for f in filenames:\n",
    "#         GCS_path = KaggleDatasets().get_gcs_path(f)\n",
    "#         gcs_paths.append(GCS_path)\n",
    "\n",
    "#     print(gcs_paths)\n",
    "\n",
    "if IS_COLAB or IS_KAGGLE:\n",
    "    for f in filenames:\n",
    "        gcs_paths.append(f)\n",
    "        \n",
    "else:\n",
    "    for f in filenames:\n",
    "        gcs_paths.append(f'../../input/{f}')"
   ]
  },
  {
   "cell_type": "code",
   "execution_count": 9,
   "metadata": {},
   "outputs": [],
   "source": [
    "!"
   ]
  },
  {
   "cell_type": "code",
   "execution_count": 10,
   "metadata": {},
   "outputs": [
    {
     "data": {
      "text/plain": [
       "['../../input/rsna-cls-15']"
      ]
     },
     "execution_count": 10,
     "metadata": {},
     "output_type": "execute_result"
    }
   ],
   "source": [
    "gcs_paths"
   ]
  },
  {
   "cell_type": "code",
   "execution_count": 11,
   "metadata": {},
   "outputs": [
    {
     "name": "stdout",
     "output_type": "stream",
     "text": [
      "train_files fold:  15\n"
     ]
    }
   ],
   "source": [
    "fold_files = []\n",
    "for path in gcs_paths:\n",
    "    folds = tf.io.gfile.glob(path + f\"/*.tfrec\")\n",
    "    fold_files += folds\n",
    "\n",
    "    print(f\"train_files fold: \", len(fold_files))"
   ]
  },
  {
   "cell_type": "code",
   "execution_count": 12,
   "metadata": {
    "executionInfo": {
     "elapsed": 6,
     "status": "ok",
     "timestamp": 1676775734030,
     "user": {
      "displayName": "136 yamashitan",
      "userId": "17856296841449186565"
     },
     "user_tz": -540
    },
    "id": "YSPbMBQixclb"
   },
   "outputs": [],
   "source": [
    "def set_seed(seed=42):\n",
    "    random.seed(seed)\n",
    "    os.environ[\"PYTHONHASHSEED\"] = str(seed)\n",
    "    np.random.seed(seed)\n",
    "    tf.random.set_seed(seed)\n",
    "\n",
    "set_seed(config.SEED)"
   ]
  },
  {
   "cell_type": "code",
   "execution_count": 13,
   "metadata": {
    "executionInfo": {
     "elapsed": 5,
     "status": "ok",
     "timestamp": 1676775734030,
     "user": {
      "displayName": "136 yamashitan",
      "userId": "17856296841449186565"
     },
     "user_tz": -540
    },
    "id": "bZIuaw0pxclc"
   },
   "outputs": [],
   "source": [
    "import re\n",
    "def read_labeled_tfrecord(example):\n",
    "    \n",
    "    LABELED_TFREC_FORMAT = {\n",
    "      \"x\":tf.io.FixedLenFeature([config.N_COLS*config.MAX_PULSE_COUNT], tf.float32),\n",
    "      \"y\":tf.io.FixedLenFeature([config.BIN_NUM*config.BIN_NUM], tf.float32),\n",
    "    }\n",
    "    example = tf.io.parse_single_example(example, LABELED_TFREC_FORMAT)\n",
    "    x = tf.reshape(example['x'], (config.MAX_PULSE_COUNT, -1))\n",
    "    y = example['y']\n",
    "\n",
    "    return x, y\n",
    "\n",
    "def preprocess(x,y):\n",
    "    #x = x[:,0].assign(x[:,0]/1000)\n",
    "    \n",
    "    x2 = tf.stack([x[:,0] / 1000,\n",
    "                   x[:,1] / 300,\n",
    "                   x[:,2],\n",
    "                   x[:,3] / 600,\n",
    "                   x[:,4] / 600,\n",
    "                   x[:,5] / 600,\n",
    "                   x[:,6] / 600,\n",
    "                   x[:,7] / 600,\n",
    "                   x[:,8] / 600,\n",
    "                 ],axis=1)\n",
    "\n",
    "    return x2, y\n",
    "    \n",
    "\n",
    "def load_dataset(filenames, labeled=True, ordered=False):\n",
    "    # Read from TFRecords. For optimal performance, reading from multiple files at once and\n",
    "    # disregarding data order. Order does not matter since we will be shuffling the data anyway.\n",
    "\n",
    "    ignore_order = tf.data.Options()\n",
    "    if not ordered:\n",
    "        ignore_order.experimental_deterministic = False # disable order, increase speed\n",
    "\n",
    "    dataset = tf.data.TFRecordDataset(filenames, num_parallel_reads=AUTO) # automatically interleaves reads from multiple files\n",
    "    dataset = dataset.with_options(ignore_order) # uses data as soon as it streams in, rather than in its original order\n",
    "    dataset = dataset.map(read_labeled_tfrecord)\n",
    "    \n",
    "    dataset = dataset.map(lambda x, y: preprocess(x, y), num_parallel_calls=AUTO)\n",
    "    # returns a dataset of (image,Ilabel) pairs if labeled=True or (image, id) pairs if labeled=False\n",
    "    return dataset\n",
    "\n",
    "def get_training_dataset(filenames, batch_size):\n",
    "    dataset = load_dataset(filenames, labeled=True)\n",
    "    dataset = dataset.repeat() # the training dataset must repeat for several epochs\n",
    "    dataset = dataset.shuffle(config.SHUFFLE_SIZE)\n",
    "    dataset = dataset.batch(batch_size)\n",
    "    dataset = dataset.prefetch(AUTO) # prefetch next batch while training (autotune prefetch buffer size)\n",
    "    return dataset\n",
    "\n",
    "\n",
    "def get_valid_dataset(filenames, batch_size):\n",
    "    dataset = load_dataset(filenames, labeled=True)\n",
    "    dataset = dataset.batch(batch_size)\n",
    "#    dataset = dataset.repeat(None)\n",
    "    dataset = dataset.prefetch(AUTO) # prefetch next batch while training (autotune prefetch buffer size)\n",
    "    return dataset\n",
    "\n",
    "\n",
    "def count_data_items(filenames):\n",
    "    # the number of data items is written in the name of the .tfrec files, i.e. flowers00-230.tfrec = 230 data items\n",
    "    n = [int(re.compile(r\"-([0-9]*)\\.\").search(filename).group(1)) for filename in filenames]\n",
    "    return np.sum(n)\n"
   ]
  },
  {
   "cell_type": "markdown",
   "metadata": {
    "id": "MksNzdHNxcld"
   },
   "source": [
    "# Prepare Metric"
   ]
  },
  {
   "cell_type": "code",
   "execution_count": 14,
   "metadata": {
    "executionInfo": {
     "elapsed": 6,
     "status": "ok",
     "timestamp": 1676775734031,
     "user": {
      "displayName": "136 yamashitan",
      "userId": "17856296841449186565"
     },
     "user_tz": -540
    },
    "id": "ihVB3bbTxcld"
   },
   "outputs": [],
   "source": [
    "azimuth_edges = np.linspace(0, 2 * np.pi, config.BIN_NUM + 1)\n",
    "zenith_edges_flat = np.linspace(0, np.pi, config.BIN_NUM + 1)\n",
    "zenith_edges = list()\n",
    "zenith_edges.append(0)\n",
    "for bin_idx in range(1, config.BIN_NUM):\n",
    "    # cos(zen_before) - cos(zen_now) = 2 / config.BIN_NUM\n",
    "    zen_now = np.arccos(np.cos(zenith_edges[-1]) - 2 / (config.BIN_NUM))\n",
    "    zenith_edges.append(zen_now)\n",
    "zenith_edges.append(np.pi)\n",
    "zenith_edges = np.array(zenith_edges)"
   ]
  },
  {
   "cell_type": "markdown",
   "metadata": {
    "id": "V6lbdFxTxcle"
   },
   "source": [
    "## Scoring functions"
   ]
  },
  {
   "cell_type": "code",
   "execution_count": 15,
   "metadata": {
    "executionInfo": {
     "elapsed": 6,
     "status": "ok",
     "timestamp": 1676775734031,
     "user": {
      "displayName": "136 yamashitan",
      "userId": "17856296841449186565"
     },
     "user_tz": -540
    },
    "id": "43igLJQGxcle"
   },
   "outputs": [],
   "source": [
    "def angular_dist_score(az_true, zen_true, az_pred, zen_pred):\n",
    "    '''\n",
    "    calculate the MAE of the angular distance between two directions.\n",
    "    The two vectors are first converted to cartesian unit vectors,\n",
    "    and then their scalar product is computed, which is equal to\n",
    "    the cosine of the angle between the two vectors. The inverse \n",
    "    cosine (arccos) thereof is then the angle between the two input vectors\n",
    "    \n",
    "    Parameters:\n",
    "    -----------\n",
    "    \n",
    "    az_true : float (or array thereof)\n",
    "        true azimuth value(s) in radian\n",
    "    zen_true : float (or array thereof)\n",
    "        true zenith value(s) in radian\n",
    "    az_pred : float (or array thereof)\n",
    "        predicted azimuth value(s) in radian\n",
    "    zen_pred : float (or array thereof)\n",
    "        predicted zenith value(s) in radian\n",
    "    \n",
    "    Returns:\n",
    "    --------\n",
    "    \n",
    "    dist : float\n",
    "        mean over the angular distance(s) in radian\n",
    "    '''\n",
    "    \n",
    "    if not (np.all(np.isfinite(az_true)) and\n",
    "            np.all(np.isfinite(zen_true)) and\n",
    "            np.all(np.isfinite(az_pred)) and\n",
    "            np.all(np.isfinite(zen_pred))):\n",
    "        raise ValueError(\"All arguments must be finite\")\n",
    "    \n",
    "    # pre-compute all sine and cosine values\n",
    "    sa1 = np.sin(az_true)\n",
    "    ca1 = np.cos(az_true)\n",
    "    sz1 = np.sin(zen_true)\n",
    "    cz1 = np.cos(zen_true)\n",
    "    \n",
    "    sa2 = np.sin(az_pred)\n",
    "    ca2 = np.cos(az_pred)\n",
    "    sz2 = np.sin(zen_pred)\n",
    "    cz2 = np.cos(zen_pred)\n",
    "    \n",
    "    # scalar product of the two cartesian vectors (x = sz*ca, y = sz*sa, z = cz)\n",
    "    scalar_prod = sz1*sz2*(ca1*ca2 + sa1*sa2) + (cz1*cz2)\n",
    "    \n",
    "    # scalar product of two unit vectors is always between -1 and 1, this is against nummerical instability\n",
    "    # that might otherwise occure from the finite precision of the sine and cosine functions\n",
    "    scalar_prod =  np.clip(scalar_prod, -1, 1)\n",
    "    \n",
    "    # convert back to an angle (in radian)\n",
    "    return np.average(np.abs(np.arccos(scalar_prod)))"
   ]
  },
  {
   "cell_type": "markdown",
   "metadata": {
    "id": "175T-uWAxcle"
   },
   "source": [
    "## Angle One-hot Encoding\n",
    "\n",
    "- azimuth and zenith are independent\n",
    "- azimuth distribution is flat and zenith distribution is sin\n",
    "  - Flat on the spherical surface\n",
    "  - $\\phi > \\pi$ events are a little bit rarer than $\\phi < \\pi$ events, (maybe) because of the neutrino attenuation by earth.\n",
    "- So, the uniform bin is used for azimuth, and $\\left| \\cos \\right|$ bin is used for zenith"
   ]
  },
  {
   "cell_type": "code",
   "execution_count": 16,
   "metadata": {
    "executionInfo": {
     "elapsed": 6,
     "status": "ok",
     "timestamp": 1676775734031,
     "user": {
      "displayName": "136 yamashitan",
      "userId": "17856296841449186565"
     },
     "user_tz": -540
    },
    "id": "7aioPfcjxclf"
   },
   "outputs": [],
   "source": [
    "def y_to_onehot(batch_y):\n",
    "    # evaluate bin code\n",
    "    azimuth_code = (batch_y[:, 0] > azimuth_edges[1:].reshape((-1, 1))).sum(axis=0)\n",
    "    zenith_code = (batch_y[:, 1] > zenith_edges[1:].reshape((-1, 1))).sum(axis=0)\n",
    "    angle_code = config.BIN_NUM * azimuth_code + zenith_code\n",
    "\n",
    "    # one-hot\n",
    "    batch_y_onehot = np.zeros((angle_code.size, config.BIN_NUM * config.BIN_NUM))\n",
    "    batch_y_onehot[np.arange(angle_code.size), angle_code] = 1\n",
    "    \n",
    "    return batch_y_onehot"
   ]
  },
  {
   "cell_type": "code",
   "execution_count": 17,
   "metadata": {
    "executionInfo": {
     "elapsed": 257,
     "status": "ok",
     "timestamp": 1676775734284,
     "user": {
      "displayName": "136 yamashitan",
      "userId": "17856296841449186565"
     },
     "user_tz": -540
    },
    "id": "ld4e8unExclf"
   },
   "outputs": [],
   "source": [
    "angle_bin_zenith0 = np.tile(zenith_edges[:-1], config.BIN_NUM)\n",
    "angle_bin_zenith1 = np.tile(zenith_edges[1:], config.BIN_NUM)\n",
    "angle_bin_azimuth0 = np.repeat(azimuth_edges[:-1], config.BIN_NUM)\n",
    "angle_bin_azimuth1 = np.repeat(azimuth_edges[1:], config.BIN_NUM)\n",
    "\n",
    "angle_bin_area = (angle_bin_azimuth1 - angle_bin_azimuth0) * (np.cos(angle_bin_zenith0) - np.cos(angle_bin_zenith1))\n",
    "angle_bin_vector_sum_x = (np.sin(angle_bin_azimuth1) - np.sin(angle_bin_azimuth0)) * ((angle_bin_zenith1 - angle_bin_zenith0) / 2 - (np.sin(2 * angle_bin_zenith1) - np.sin(2 * angle_bin_zenith0)) / 4)\n",
    "angle_bin_vector_sum_y = (np.cos(angle_bin_azimuth0) - np.cos(angle_bin_azimuth1)) * ((angle_bin_zenith1 - angle_bin_zenith0) / 2 - (np.sin(2 * angle_bin_zenith1) - np.sin(2 * angle_bin_zenith0)) / 4)\n",
    "angle_bin_vector_sum_z = (angle_bin_azimuth1 - angle_bin_azimuth0) * ((np.cos(2 * angle_bin_zenith0) - np.cos(2 * angle_bin_zenith1)) / 4)\n",
    "\n",
    "angle_bin_vector_mean_x = angle_bin_vector_sum_x / angle_bin_area\n",
    "angle_bin_vector_mean_y = angle_bin_vector_sum_y / angle_bin_area\n",
    "angle_bin_vector_mean_z = angle_bin_vector_sum_z / angle_bin_area\n",
    "\n",
    "angle_bin_vector = np.zeros((1, config.BIN_NUM * config.BIN_NUM, 3))\n",
    "angle_bin_vector[:, :, 0] = angle_bin_vector_mean_x\n",
    "angle_bin_vector[:, :, 1] = angle_bin_vector_mean_y\n",
    "angle_bin_vector[:, :, 2] = angle_bin_vector_mean_z\n",
    "\n",
    "def pred_to_angle(pred, epsilon=1e-8):\n",
    "    # convert prediction to vector\n",
    "    pred_vector = (pred.reshape((-1, config.BIN_NUM * config.BIN_NUM, 1)) * angle_bin_vector).sum(axis=1)\n",
    "    \n",
    "    # normalize\n",
    "    pred_vector_norm = np.sqrt((pred_vector**2).sum(axis=1))\n",
    "    mask = pred_vector_norm < epsilon\n",
    "    pred_vector_norm[mask] = 1\n",
    "    \n",
    "    # assign <1, 0, 0> to very small vectors (badly predicted)\n",
    "    pred_vector /= pred_vector_norm.reshape((-1, 1))\n",
    "    pred_vector[mask] = np.array([1., 0., 0.])\n",
    "    \n",
    "    # convert to angle\n",
    "    azimuth = np.arctan2(pred_vector[:, 1], pred_vector[:, 0])\n",
    "    azimuth[azimuth < 0] += 2 * np.pi\n",
    "    zenith = np.arccos(pred_vector[:, 2])\n",
    "    \n",
    "    return azimuth, zenith"
   ]
  },
  {
   "cell_type": "markdown",
   "metadata": {
    "id": "oLXZ_06Cxclf"
   },
   "source": [
    "# feature engineering"
   ]
  },
  {
   "cell_type": "markdown",
   "metadata": {
    "id": "AkBg3KY5xclg"
   },
   "source": [
    "## Split validation samples"
   ]
  },
  {
   "cell_type": "code",
   "execution_count": 18,
   "metadata": {
    "colab": {
     "base_uri": "https://localhost:8080/"
    },
    "executionInfo": {
     "elapsed": 257,
     "status": "ok",
     "timestamp": 1676775734284,
     "user": {
      "displayName": "136 yamashitan",
      "userId": "17856296841449186565"
     },
     "user_tz": -540
    },
    "id": "v1Ak_LmOxclg",
    "outputId": "77c43cd4-498a-49e1-d18c-3794c3e6d320"
   },
   "outputs": [
    {
     "name": "stdout",
     "output_type": "stream",
     "text": [
      "13 2\n"
     ]
    }
   ],
   "source": [
    "if len(fold_files) < 10:\n",
    "    files_train = fold_files[:4]\n",
    "    files_valid = fold_files[4:]\n",
    "else:\n",
    "    n_valid = 2 #int(len(fold_files) / 10)\n",
    "    files_train = fold_files[:-n_valid]\n",
    "    files_valid = fold_files[-n_valid:]\n",
    "    \n",
    "print (len(files_train), len(files_valid))"
   ]
  },
  {
   "cell_type": "markdown",
   "metadata": {
    "id": "N8_4MY9hxclg"
   },
   "source": [
    "## hyperparameters for LSTM model"
   ]
  },
  {
   "cell_type": "markdown",
   "metadata": {
    "id": "OrTTCW9-xclh"
   },
   "source": [
    "## Define & Train Model"
   ]
  },
  {
   "cell_type": "code",
   "execution_count": 19,
   "metadata": {
    "colab": {
     "base_uri": "https://localhost:8080/"
    },
    "executionInfo": {
     "elapsed": 5,
     "status": "ok",
     "timestamp": 1676775734285,
     "user": {
      "displayName": "136 yamashitan",
      "userId": "17856296841449186565"
     },
     "user_tz": -540
    },
    "id": "LWxjz9J4xclh",
    "outputId": "19bb4008-d673-47a6-97a6-484b11329ce6"
   },
   "outputs": [
    {
     "name": "stdout",
     "output_type": "stream",
     "text": [
      " config.LSTM_width :  160\n",
      "config.DENSE_width :  0\n"
     ]
    }
   ],
   "source": [
    "print(\" config.LSTM_width : \", config.LSTM_width)\n",
    "print(\"config.DENSE_width : \", config.DENSE_width)"
   ]
  },
  {
   "cell_type": "code",
   "execution_count": 20,
   "metadata": {
    "colab": {
     "base_uri": "https://localhost:8080/",
     "height": 300
    },
    "executionInfo": {
     "elapsed": 484,
     "status": "ok",
     "timestamp": 1676775734765,
     "user": {
      "displayName": "136 yamashitan",
      "userId": "17856296841449186565"
     },
     "user_tz": -540
    },
    "id": "EuTxZ-Zexclh",
    "outputId": "b9175e4a-5095-4f76-b99d-67a78eaf9c90"
   },
   "outputs": [
    {
     "name": "stdout",
     "output_type": "stream",
     "text": [
      "Learning rate schedule: 0.01 to 0.01 to 0.01\n"
     ]
    },
    {
     "data": {
      "image/png": "[encoded data removed]",
      "text/plain": [
       "<Figure size 1000x400 with 1 Axes>"
      ]
     },
     "metadata": {},
     "output_type": "display_data"
    }
   ],
   "source": [
    "import math \n",
    "import matplotlib.pyplot as plt\n",
    "\n",
    "\n",
    "\n",
    "def lrfn(epoch):\n",
    "    if epoch<config.STEPS[0]:\n",
    "        epoch2 = epoch\n",
    "        EPOCHS2 = config.STEPS[0]\n",
    "    elif epoch<config.STEPS[0]+config.STEPS[1]:\n",
    "        epoch2 = epoch-config.STEPS[0]\n",
    "        EPOCHS2 = config.STEPS[1]\n",
    "    elif epoch<config.STEPS[0]+config.STEPS[1]+config.STEPS[2]:\n",
    "        epoch2 = epoch-config.STEPS[0]-config.STEPS[1]\n",
    "        EPOCHS2 = config.STEPS[2]\n",
    "    \n",
    "    if epoch2 < config.LR_RAMPUP_EPOCHS:\n",
    "        lr = (config.LR_MAX - config.LR_START) / config.LR_RAMPUP_EPOCHS * epoch2 + config.LR_START\n",
    "    elif epoch2 < config.LR_RAMPUP_EPOCHS + config.LR_SUSTAIN_EPOCHS:\n",
    "        lr = config.LR_MAX\n",
    "    else:\n",
    "        decay_total_epochs = EPOCHS2 - config.LR_RAMPUP_EPOCHS - config.LR_SUSTAIN_EPOCHS - 1\n",
    "        decay_epoch_index = epoch2 - config.LR_RAMPUP_EPOCHS - config.LR_SUSTAIN_EPOCHS\n",
    "        phase = math.pi * decay_epoch_index / decay_total_epochs\n",
    "        cosine_decay = 0.5 * (1 + math.cos(phase))\n",
    "        lr = (config.LR_MAX - config.LR_MIN) * cosine_decay + config.LR_MIN\n",
    "    return lr\n",
    "\n",
    "rng = [i for i in range(config.EPOCHS)]\n",
    "lr_y = [lrfn(x) for x in rng]\n",
    "plt.figure(figsize=(10, 4))\n",
    "plt.plot(rng, lr_y, '-o')\n",
    "print(\"Learning rate schedule: {:.3g} to {:.3g} to {:.3g}\". \\\n",
    "          format(lr_y[0], max(lr_y), lr_y[-1]))\n",
    "lr_callback = tf.keras.callbacks.LearningRateScheduler(lrfn, verbose = True)\n",
    "plt.xlabel('Epoch',size=14)\n",
    "plt.ylabel('Learning Rate',size=14)\n",
    "plt.show()"
   ]
  },
  {
   "cell_type": "code",
   "execution_count": 21,
   "metadata": {
    "colab": {
     "base_uri": "https://localhost:8080/"
    },
    "executionInfo": {
     "elapsed": 1678,
     "status": "ok",
     "timestamp": 1676775736440,
     "user": {
      "displayName": "136 yamashitan",
      "userId": "17856296841449186565"
     },
     "user_tz": -540
    },
    "id": "wP1iyt7yxclh",
    "outputId": "a14f8f07-705c-4694-d219-256e5b79abd1"
   },
   "outputs": [
    {
     "name": "stdout",
     "output_type": "stream",
     "text": [
      "Model: \"model\"\n",
      "_________________________________________________________________\n",
      " Layer (type)                Output Shape              Param #   \n",
      "=================================================================\n",
      " input_1 (InputLayer)        [(None, 128, 9)]          0         \n",
      "                                                                 \n",
      " bidirectional (Bidirectiona  (None, 320)              217600    \n",
      " l)                                                              \n",
      "                                                                 \n",
      " layer_normalization (LayerN  (None, 320)              640       \n",
      " ormalization)                                                   \n",
      "                                                                 \n",
      " dense (Dense)               (None, 256)               82176     \n",
      "                                                                 \n",
      "=================================================================\n",
      "Total params: 300,416\n",
      "Trainable params: 300,416\n",
      "Non-trainable params: 0\n",
      "_________________________________________________________________\n"
     ]
    }
   ],
   "source": [
    "\n",
    "with strategy.scope():\n",
    "    # build model\n",
    "    model_inputs = tf.keras.layers.Input((config.MAX_PULSE_COUNT, config.N_COLS))\n",
    "    model_x = tf.keras.layers.Bidirectional(tf.keras.layers.LSTM(config.LSTM_width))(model_inputs)\n",
    "    model_x = tf.keras.layers.LayerNormalization()(model_x)\n",
    "    #model_x = tf.keras.layers.Dense(config.DENSE_width, activation='relu')(model_x)\n",
    "    #model_outputs = tf.keras.layers.Dense(2, activation='sigmoid')(model_x)\n",
    "    model_outputs = tf.keras.layers.Dense(config.BIN_NUM * config.BIN_NUM, activation='softmax')(model_x)\n",
    "\n",
    "    model = tf.keras.Model(\n",
    "        inputs=model_inputs,\n",
    "        outputs=model_outputs,\n",
    "        name=\"model\"\n",
    "    )\n",
    "    # compile model\n",
    "    optimizer = tf.keras.optimizers.Adam(learning_rate=config.LR)\n",
    "    #loss = tf.keras.losses.Huber() \n",
    "\n",
    "    loss = 'categorical_crossentropy'\n",
    "    metrics = ['accuracy']\n",
    "\n",
    "    model.compile(\n",
    "        loss=loss,\n",
    "        optimizer=optimizer,\n",
    "        metrics=metrics\n",
    "    )\n",
    "\n",
    "model.summary()"
   ]
  },
  {
   "cell_type": "code",
   "execution_count": 22,
   "metadata": {
    "colab": {
     "base_uri": "https://localhost:8080/"
    },
    "id": "XqSWm2Lgxcli",
    "outputId": "1d1ac4a2-d164-4bc7-fbf3-24e5046e057f"
   },
   "outputs": [
    {
     "name": "stdout",
     "output_type": "stream",
     "text": [
      "2600000\n"
     ]
    },
    {
     "name": "stderr",
     "output_type": "stream",
     "text": [
      "/home/isamu/workdata/anaconda3/envs/tf2.6/lib/python3.7/site-packages/IPython/html.py:14: ShimWarning: The `IPython.html` package has been deprecated since IPython 4.0. You should import from `notebook` instead. `IPython.html.widgets` has moved to `ipywidgets`.\n",
      "  \"`IPython.html.widgets` has moved to `ipywidgets`.\", ShimWarning)\n"
     ]
    },
    {
     "data": {
      "text/html": [
       "Tracking run with wandb version 0.13.10"
      ],
      "text/plain": [
       "<IPython.core.display.HTML object>"
      ]
     },
     "metadata": {},
     "output_type": "display_data"
    },
    {
     "data": {
      "text/html": [
       "Run data is saved locally in <code>/mnt/workdata/kaggle/ICECUBE/notebooks/baseline/wandb/run-20230219_173002-qb3vkwnx</code>"
      ],
      "text/plain": [
       "<IPython.core.display.HTML object>"
      ]
     },
     "metadata": {},
     "output_type": "display_data"
    },
    {
     "data": {
      "text/html": [
       "Syncing run <strong><a href='https://wandb.ai/yamsam/ICECUBE/runs/qb3vkwnx' target=\"_blank\">test</a></strong> to <a href='https://wandb.ai/yamsam/ICECUBE' target=\"_blank\">Weights & Biases</a> (<a href='https://wandb.me/run' target=\"_blank\">docs</a>)<br/>"
      ],
      "text/plain": [
       "<IPython.core.display.HTML object>"
      ]
     },
     "metadata": {},
     "output_type": "display_data"
    },
    {
     "data": {
      "text/html": [
       " View project at <a href='https://wandb.ai/yamsam/ICECUBE' target=\"_blank\">https://wandb.ai/yamsam/ICECUBE</a>"
      ],
      "text/plain": [
       "<IPython.core.display.HTML object>"
      ]
     },
     "metadata": {},
     "output_type": "display_data"
    },
    {
     "data": {
      "text/html": [
       " View run at <a href='https://wandb.ai/yamsam/ICECUBE/runs/qb3vkwnx' target=\"_blank\">https://wandb.ai/yamsam/ICECUBE/runs/qb3vkwnx</a>"
      ],
      "text/plain": [
       "<IPython.core.display.HTML object>"
      ]
     },
     "metadata": {},
     "output_type": "display_data"
    },
    {
     "name": "stderr",
     "output_type": "stream",
     "text": [
      "\u001b[34m\u001b[1mwandb\u001b[0m: \u001b[33mWARNING\u001b[0m The save_model argument by default saves the model in the HDF5 format that cannot save custom objects like subclassed models and custom layers. This behavior will be deprecated in a future release in favor of the SavedModel format. Meanwhile, the HDF5 model is saved as W&B files and the SavedModel as W&B Artifacts.\n"
     ]
    },
    {
     "name": "stdout",
     "output_type": "stream",
     "text": [
      "GROUP_NAME lstm\n",
      "EXP_NAME test\n",
      "BIN_NUM 16\n",
      "MAX_PULSE_COUNT 128\n",
      "SHUFFLE_SIZE 4096\n",
      "LSTM_width 160\n",
      "DENSE_width 0\n",
      "N_COLS 9\n",
      "BATCH_SIZE 2048\n",
      "MIXED False\n",
      "LR_START 0.01\n",
      "LR_MAX 0.01\n",
      "LR_MIN 1e-06\n",
      "LR_RAMPUP_EPOCHS 0\n",
      "LR_SUSTAIN_EPOCHS 0\n",
      "STEPS [160, 240, 600]\n",
      "EPOCHS 1\n",
      "LR 0.001\n",
      "SEED 136\n",
      "NOT_WATCH_PARAM ['']\n",
      "\n",
      "Epoch 1: LearningRateScheduler setting learning rate to 0.01.\n"
     ]
    },
    {
     "name": "stderr",
     "output_type": "stream",
     "text": [
      "2023-02-19 17:30:14.162624: I tensorflow/stream_executor/cuda/cuda_dnn.cc:384] Loaded cuDNN version 8201\n"
     ]
    },
    {
     "name": "stdout",
     "output_type": "stream",
     "text": [
      "   2/1269 [..............................] - ETA: 1:06 - loss: 6.2507 - accuracy: 0.0037   "
     ]
    },
    {
     "name": "stderr",
     "output_type": "stream",
     "text": [
      "2023-02-19 17:30:14.874203: I tensorflow/stream_executor/cuda/cuda_blas.cc:1786] TensorFloat-32 will be used for the matrix multiplication. This will only be logged once.\n"
     ]
    },
    {
     "name": "stdout",
     "output_type": "stream",
     "text": [
      "   6/1269 [..............................] - ETA: 1:09 - loss: 6.0465 - accuracy: 0.0033WARNING:tensorflow:Callback method `on_train_batch_end` is slow compared to the batch time (batch time: 0.0256s vs `on_train_batch_end` time: 0.0291s). Check your callbacks.\n",
      "1269/1269 [==============================] - ETA: 0s - loss: 5.4667 - accuracy: 0.0097\n",
      "Epoch 1: val_accuracy improved from -inf to 0.03774, saving model to ./best_model.h5\n"
     ]
    },
    {
     "name": "stderr",
     "output_type": "stream",
     "text": [
      "WARNING:absl:Found untraced functions such as lstm_cell_1_layer_call_fn, lstm_cell_1_layer_call_and_return_conditional_losses, lstm_cell_2_layer_call_fn, lstm_cell_2_layer_call_and_return_conditional_losses while saving (showing 4 of 4). These functions will not be directly callable after loading.\n"
     ]
    },
    {
     "name": "stdout",
     "output_type": "stream",
     "text": [
      "INFO:tensorflow:Assets written to: /mnt/workdata/kaggle/ICECUBE/notebooks/baseline/wandb/run-20230219_173002-qb3vkwnx/files/model-best/assets\n"
     ]
    },
    {
     "name": "stderr",
     "output_type": "stream",
     "text": [
      "INFO:tensorflow:Assets written to: /mnt/workdata/kaggle/ICECUBE/notebooks/baseline/wandb/run-20230219_173002-qb3vkwnx/files/model-best/assets\n",
      "\u001b[34m\u001b[1mwandb\u001b[0m: Adding directory to artifact (/mnt/workdata/kaggle/ICECUBE/notebooks/baseline/wandb/run-20230219_173002-qb3vkwnx/files/model-best)... Done. 0.1s\n"
     ]
    },
    {
     "name": "stdout",
     "output_type": "stream",
     "text": [
      "1269/1269 [==============================] - 81s 61ms/step - loss: 5.4667 - accuracy: 0.0097 - val_loss: 5.1132 - val_accuracy: 0.0377 - lr: 0.0100\n"
     ]
    }
   ],
   "source": [
    "from tensorflow import keras\n",
    "from tensorflow.keras.callbacks import EarlyStopping\n",
    "\n",
    "from wandb.keras import WandbCallback\n",
    "# EaelyStoppingの設定\n",
    "early_stopping =  EarlyStopping(\n",
    "                            monitor='val_loss',\n",
    "                            patience=100,\n",
    ")\n",
    "\n",
    "train_image_count = count_data_items(files_train) \n",
    "\n",
    "print (train_image_count)\n",
    "\n",
    "ds_train = get_training_dataset(files_train, config.BATCH_SIZE)\n",
    "\n",
    "ds_valid = get_valid_dataset(files_valid, config.BATCH_SIZE)\n",
    "\n",
    "if tpu_detected:\n",
    "    steps_per_epoch=train_image_count // config.BATCH_SIZE\n",
    "else:\n",
    "    steps_per_epoch=train_image_count // config.BATCH_SIZE \n",
    "\n",
    "model_ckpt = tf.keras.callbacks.ModelCheckpoint(    \n",
    "    save_dir+f\"/best_model.h5\",\n",
    "     monitor=\"val_accuracy\", verbose=1, save_best_only=True,\n",
    "    save_weights_only=True, mode=\"max\", save_freq=\"epoch\"\n",
    ")\n",
    "\n",
    "log_filepath = 'log'\n",
    "#tb_cb = tf.keras.callbacks.TensorBoard(log_dir=log_filepath, histogram_freq=1)\n",
    "\n",
    "\n",
    "wandb.init(project='ICECUBE', entity='yamsam', name=config.EXP_NAME, group=config.GROUP_NAME)\n",
    "\n",
    "for k, v in dict(vars(config)).items():\n",
    "    if k[:2] == \"__\" or k in config.NOT_WATCH_PARAM:\n",
    "        continue\n",
    "    print (k, v)\n",
    "    wandb.config[k] = v\n",
    "\n",
    "#wandb_config.fold = fold\n",
    "#wandb.watch(model)\n",
    "\n",
    "history = model.fit(\n",
    "    ds_train,\n",
    "    epochs=config.EPOCHS,\n",
    "    callbacks=[model_ckpt, lr_callback, WandbCallback()],\n",
    "#    callbacks=[model_ckpt, lr_callback, tb_cb],\n",
    "    steps_per_epoch=steps_per_epoch,\n",
    "    validation_data=ds_valid,\n",
    "    verbose=True\n",
    ")\n",
    "model.save_weights(save_dir+f'last_model.h5')"
   ]
  },
  {
   "cell_type": "markdown",
   "metadata": {
    "id": "PVqD9CLhxcli"
   },
   "source": [
    "## Draw training progress"
   ]
  },
  {
   "cell_type": "code",
   "execution_count": 23,
   "metadata": {
    "id": "3U_szI-Axcli"
   },
   "outputs": [
    {
     "data": {
      "image/png": "[encoded data removed]",
      "text/plain": [
       "<Figure size 1000x500 with 2 Axes>"
      ]
     },
     "metadata": {},
     "output_type": "display_data"
    }
   ],
   "source": [
    "fig = plt.figure(figsize=(10, 5))\n",
    "\n",
    "label = f\"LSTM {config.LSTM_width:d} - Dense {config.DENSE_width:d}\"\n",
    "\n",
    "# history - loss\n",
    "ax = plt.subplot(121)\n",
    "line = ax.plot(history.epoch, history.history['loss'], label=label)\n",
    "ax.plot(history.epoch, history.history['val_loss'], linestyle=\"dotted\", color=line[0].get_color(), label=\"valid\")\n",
    "#ax.axhline(np.log(config.BIN_NUM * config.BIN_NUM), color=\"gray\", label=\"random\")\n",
    "\n",
    "ax.set_ylabel(\"Loss\")\n",
    "ax.set_xlabel(\"Epoch\")\n",
    "ax.legend()\n",
    "\n",
    "# history - accuracy\n",
    "ax = plt.subplot(122)\n",
    "line = ax.plot(history.epoch, history.history['accuracy'], label=label)\n",
    "ax.plot(history.epoch, history.history['val_accuracy'], linestyle=\"dotted\", color=line[0].get_color(), label=\"valid\")\n",
    "#ax.axhline(1 / config.BIN_NUM / config.BIN_NUM, color=\"gray\", label=\"random\")\n",
    "\n",
    "ax.set_ylabel(\"mean_squared_error\")\n",
    "ax.set_xlabel(\"Epoch\")\n",
    "ax.legend()\n",
    "\n",
    "plt.tight_layout()\n",
    "plt.show()\n",
    "\n",
    "\n",
    "fig.savefig(\"history.jpg\")\n",
    "\n",
    "wandb.log(\n",
    "    {\"history_image\":wandb.Image(\"history.jpg\")})"
   ]
  },
  {
   "cell_type": "markdown",
   "metadata": {
    "id": "KHw8Y8Oxxclj"
   },
   "source": [
    "## Evaluate model"
   ]
  },
  {
   "cell_type": "code",
   "execution_count": 24,
   "metadata": {
    "id": "_bw9bKAQxclj"
   },
   "outputs": [],
   "source": [
    "ds_valid = get_valid_dataset(files_valid[0], config.BATCH_SIZE)\n",
    "\n",
    "def batch_to_numpy(data):\n",
    "    x, y = data\n",
    "    x = x.numpy()\n",
    "    y = y.numpy()\n",
    "    return x, y\n",
    "    \n",
    "valid_y = []\n",
    "for data in ds_valid:\n",
    "    x, y = batch_to_numpy(data)\n",
    "    valid_y.append(y)\n",
    "    \n",
    "valid_y = np.vstack(valid_y)"
   ]
  },
  {
   "cell_type": "code",
   "execution_count": 25,
   "metadata": {
    "id": "yH2HK6ocxclj"
   },
   "outputs": [],
   "source": [
    "from sklearn.metrics import accuracy_score"
   ]
  },
  {
   "cell_type": "code",
   "execution_count": 26,
   "metadata": {
    "id": "oYmYPQjBxclk"
   },
   "outputs": [
    {
     "name": "stdout",
     "output_type": "stream",
     "text": [
      "98/98 [==============================] - 3s 29ms/step\n"
     ]
    }
   ],
   "source": [
    "model.load_weights(save_dir+'best_model.h5')\n",
    "\n",
    "valid_pred = model.predict(ds_valid, verbose=1)\n",
    "\n",
    "valid_pred_azimuth, valid_pred_zenith  = pred_to_angle(valid_pred)\n",
    "\n",
    "gt_azimuth, gt_zenith = pred_to_angle(valid_y)\n",
    "\n",
    "mae = angular_dist_score(gt_azimuth, gt_zenith, valid_pred_azimuth, valid_pred_zenith)\n",
    "\n",
    "acc = accuracy_score(np.argmax(valid_y,axis=1), np.argmax(valid_pred,axis=1))\n"
   ]
  },
  {
   "cell_type": "code",
   "execution_count": 27,
   "metadata": {
    "id": "JHiH6lPMxclk"
   },
   "outputs": [
    {
     "name": "stdout",
     "output_type": "stream",
     "text": [
      "last acc 0.03753\n",
      "best 1.2157766315859644\n"
     ]
    }
   ],
   "source": [
    "print ('last acc', acc)\n",
    "print ('best', mae)\n",
    "\n",
    "wandb.log({\n",
    "            \"best_mae\": mae,\n",
    "        })\n"
   ]
  },
  {
   "cell_type": "code",
   "execution_count": 28,
   "metadata": {
    "id": "7APUg8IGxcll"
   },
   "outputs": [
    {
     "data": {
      "image/png": "[encoded data removed]",
      "text/plain": [
       "<Figure size 800x800 with 4 Axes>"
      ]
     },
     "metadata": {},
     "output_type": "display_data"
    }
   ],
   "source": [
    "fig, axs = plt.subplots(2, 2, figsize=(8, 8))\n",
    "\n",
    "ax = axs[0, 0]\n",
    "ax.scatter(gt_azimuth, valid_pred_azimuth, s=0.1, alpha=0.1)\n",
    "ax.set_xlabel(\"True\")\n",
    "ax.set_ylabel(\"Prediction\")\n",
    "ax.set_xlim(0, 2 * np.pi)\n",
    "ax.set_ylim(0, 2 * np.pi)\n",
    "ax.set_xticks(azimuth_edges[0::(config.BIN_NUM//4)])\n",
    "ax.set_xticklabels([\"%.2f\" % n for n in azimuth_edges[0::(config.BIN_NUM//4)] / np.pi])\n",
    "ax.set_yticks(azimuth_edges[0::(config.BIN_NUM//4)])\n",
    "ax.set_yticklabels([\"%.2f\" % n for n in azimuth_edges[0::(config.BIN_NUM//4)] / np.pi])\n",
    "ax.grid(linestyle=\"dashed\", color=\"black\", alpha=0.5)\n",
    "ax.set_title(r\"azimuth [$\\pi$]\")\n",
    "\n",
    "ax = axs[0, 1]\n",
    "ax.scatter(gt_zenith, valid_pred_zenith, s=0.1, alpha=0.1)\n",
    "ax.set_xlabel(\"True\")\n",
    "ax.set_ylabel(\"Prediction\")\n",
    "ax.set_xlim(0, np.pi)\n",
    "ax.set_ylim(0, np.pi)\n",
    "ax.set_xticks(zenith_edges[0::(config.BIN_NUM//4)])\n",
    "ax.set_xticklabels([\"%.2f\" % n for n in zenith_edges[0::(config.BIN_NUM//4)] / np.pi])\n",
    "ax.set_yticks(zenith_edges[0::(config.BIN_NUM//4)])\n",
    "ax.set_yticklabels([\"%.2f\" % n for n in zenith_edges[0::(config.BIN_NUM//4)] / np.pi])\n",
    "ax.grid(linestyle=\"dashed\", color=\"black\", alpha=0.5)\n",
    "ax.set_title(r\"zenith [$\\pi$]\")\n",
    "\n",
    "ax = axs[1, 0]\n",
    "ax.hist2d(gt_azimuth, valid_pred_azimuth, bins=100)\n",
    "ax.set_xlabel(\"True\")\n",
    "ax.set_ylabel(\"Prediction\")\n",
    "ax.set_xlim(0, 2 * np.pi)\n",
    "ax.set_ylim(0, 2 * np.pi)\n",
    "ax.set_xticks(azimuth_edges[0::(config.BIN_NUM//4)])\n",
    "ax.set_xticklabels([\"%.2f\" % n for n in azimuth_edges[0::(config.BIN_NUM//4)] / np.pi])\n",
    "ax.set_yticks(azimuth_edges[0::(config.BIN_NUM//4)])\n",
    "ax.set_yticklabels([\"%.2f\" % n for n in azimuth_edges[0::(config.BIN_NUM//4)] / np.pi])\n",
    "ax.grid(linestyle=\"dashed\", color=\"black\", alpha=0.5)\n",
    "ax.set_title(r\"azimuth [$\\pi$]\")\n",
    "\n",
    "ax = axs[1, 1]\n",
    "ax.hist2d(gt_zenith, valid_pred_zenith, bins=100)\n",
    "ax.set_xlabel(\"True\")\n",
    "ax.set_ylabel(\"Prediction\")\n",
    "ax.set_xlim(0, np.pi)\n",
    "ax.set_ylim(0, np.pi)\n",
    "ax.set_xticks(zenith_edges[0::(config.BIN_NUM//4)])\n",
    "ax.set_xticklabels([\"%.2f\" % n for n in zenith_edges[0::(config.BIN_NUM//4)] / np.pi])\n",
    "ax.set_yticks(zenith_edges[0::(config.BIN_NUM//4)])\n",
    "ax.set_yticklabels([\"%.2f\" % n for n in zenith_edges[0::(config.BIN_NUM//4)] / np.pi])\n",
    "ax.grid(linestyle=\"dashed\", color=\"black\", alpha=0.5)\n",
    "ax.set_title(r\"zenith [$\\pi$]\")\n",
    "\n",
    "plt.suptitle(f\"[Angle by Mean] MAE: {mae:.4f}\")\n",
    "plt.tight_layout()\n",
    "plt.show()\n",
    "\n",
    "fig.savefig(\"result.jpg\")\n",
    "\n",
    "wandb.log(\n",
    "    {\"result_image\":wandb.Image(\"result.jpg\")})"
   ]
  },
  {
   "cell_type": "code",
   "execution_count": 29,
   "metadata": {},
   "outputs": [
    {
     "data": {
      "text/html": [
       "Waiting for W&B process to finish... <strong style=\"color:green\">(success).</strong>"
      ],
      "text/plain": [
       "<IPython.core.display.HTML object>"
      ]
     },
     "metadata": {},
     "output_type": "display_data"
    },
    {
     "data": {
      "text/html": [
       "<style>\n",
       "    table.wandb td:nth-child(1) { padding: 0 10px; text-align: left ; width: auto;} td:nth-child(2) {text-align: left ; width: 100%}\n",
       "    .wandb-row { display: flex; flex-direction: row; flex-wrap: wrap; justify-content: flex-start; width: 100% }\n",
       "    .wandb-col { display: flex; flex-direction: column; flex-basis: 100%; flex: 1; padding: 10px; }\n",
       "    </style>\n",
       "<div class=\"wandb-row\"><div class=\"wandb-col\"><h3>Run history:</h3><br/><table class=\"wandb\"><tr><td>accuracy</td><td>▁</td></tr><tr><td>best_mae</td><td>▁</td></tr><tr><td>epoch</td><td>▁</td></tr><tr><td>loss</td><td>▁</td></tr><tr><td>lr</td><td>▁</td></tr><tr><td>val_accuracy</td><td>▁</td></tr><tr><td>val_loss</td><td>▁</td></tr></table><br/></div><div class=\"wandb-col\"><h3>Run summary:</h3><br/><table class=\"wandb\"><tr><td>accuracy</td><td>0.00969</td></tr><tr><td>best_epoch</td><td>0</td></tr><tr><td>best_mae</td><td>1.21578</td></tr><tr><td>best_val_loss</td><td>5.11319</td></tr><tr><td>epoch</td><td>0</td></tr><tr><td>loss</td><td>5.46667</td></tr><tr><td>lr</td><td>0.01</td></tr><tr><td>val_accuracy</td><td>0.03774</td></tr><tr><td>val_loss</td><td>5.11319</td></tr></table><br/></div></div>"
      ],
      "text/plain": [
       "<IPython.core.display.HTML object>"
      ]
     },
     "metadata": {},
     "output_type": "display_data"
    },
    {
     "data": {
      "text/html": [
       " View run <strong style=\"color:#cdcd00\">test</strong> at: <a href='https://wandb.ai/yamsam/ICECUBE/runs/qb3vkwnx' target=\"_blank\">https://wandb.ai/yamsam/ICECUBE/runs/qb3vkwnx</a><br/>Synced 6 W&B file(s), 3 media file(s), 4 artifact file(s) and 1 other file(s)"
      ],
      "text/plain": [
       "<IPython.core.display.HTML object>"
      ]
     },
     "metadata": {},
     "output_type": "display_data"
    },
    {
     "data": {
      "text/html": [
       "Find logs at: <code>./wandb/run-20230219_173002-qb3vkwnx/logs</code>"
      ],
      "text/plain": [
       "<IPython.core.display.HTML object>"
      ]
     },
     "metadata": {},
     "output_type": "display_data"
    }
   ],
   "source": [
    "wandb.finish()"
   ]
  },
  {
   "cell_type": "markdown",
   "metadata": {
    "id": "Iplv6gmLxcll"
   },
   "source": [
    "# END-OF-NOTE"
   ]
  }
 ],
 "metadata": {
  "accelerator": "TPU",
  "colab": {
   "provenance": []
  },
  "gpuClass": "standard",
  "kernelspec": {
   "display_name": "tf2.6",
   "language": "python",
   "name": "tf2.6"
  },
  "language_info": {
   "codemirror_mode": {
    "name": "ipython",
    "version": 3
   },
   "file_extension": ".py",
   "mimetype": "text/x-python",
   "name": "python",
   "nbconvert_exporter": "python",
   "pygments_lexer": "ipython3",
   "version": "3.7.16"
  }
 },
 "nbformat": 4,
 "nbformat_minor": 4
}
